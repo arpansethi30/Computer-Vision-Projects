{
 "cells": [
  {
   "cell_type": "code",
   "execution_count": 6,
   "metadata": {},
   "outputs": [],
   "source": [
    "import cv2\n",
    "import numpy as np\n",
    "import easyocr\n",
    "import matplotlib.pyplot as plt"
   ]
  },
  {
   "cell_type": "code",
   "execution_count": 7,
   "metadata": {},
   "outputs": [
    {
     "data": {
      "text/plain": [
       "array([[[ 65, 115, 115],\n",
       "        [ 21,  69,  70],\n",
       "        [ 17,  61,  62],\n",
       "        ...,\n",
       "        [187, 191, 255],\n",
       "        [ 72,  75, 156],\n",
       "        [161, 163, 247]],\n",
       "\n",
       "       [[ 73, 122, 124],\n",
       "        [ 42,  92,  92],\n",
       "        [ 10,  56,  57],\n",
       "        ...,\n",
       "        [119, 118, 212],\n",
       "        [ 49,  46, 145],\n",
       "        [ 95,  91, 192]],\n",
       "\n",
       "       [[ 51, 102, 105],\n",
       "        [ 50, 101, 103],\n",
       "        [ 21,  69,  71],\n",
       "        ...,\n",
       "        [ 35,  24, 151],\n",
       "        [ 35,  21, 156],\n",
       "        [ 36,  22, 158]],\n",
       "\n",
       "       ...,\n",
       "\n",
       "       [[205, 235, 255],\n",
       "        [190, 220, 245],\n",
       "        [187, 217, 242],\n",
       "        ...,\n",
       "        [ 83, 107, 135],\n",
       "        [ 91, 115, 145],\n",
       "        [118, 142, 170]],\n",
       "\n",
       "       [[210, 240, 255],\n",
       "        [198, 228, 253],\n",
       "        [185, 215, 240],\n",
       "        ...,\n",
       "        [150, 173, 199],\n",
       "        [114, 135, 163],\n",
       "        [ 85, 106, 133]],\n",
       "\n",
       "       [[201, 231, 255],\n",
       "        [208, 238, 255],\n",
       "        [203, 233, 255],\n",
       "        ...,\n",
       "        [168, 189, 216],\n",
       "        [165, 184, 211],\n",
       "        [160, 179, 206]]], dtype=uint8)"
      ]
     },
     "execution_count": 7,
     "metadata": {},
     "output_type": "execute_result"
    }
   ],
   "source": [
    "image_path = \"testimg.jpg\"\n",
    "img = cv2.imread(image_path)\n",
    "img\n"
   ]
  },
  {
   "cell_type": "code",
   "execution_count": 8,
   "metadata": {},
   "outputs": [
    {
     "name": "stderr",
     "output_type": "stream",
     "text": [
      "Neither CUDA nor MPS are available - defaulting to CPU. Note: This module is much faster with a GPU.\n"
     ]
    }
   ],
   "source": [
    "reader = easyocr.Reader(['en'], gpu=True)"
   ]
  },
  {
   "cell_type": "code",
   "execution_count": 9,
   "metadata": {},
   "outputs": [
    {
     "ename": "AttributeError",
     "evalue": "module 'PIL.Image' has no attribute 'ANTIALIAS'",
     "output_type": "error",
     "traceback": [
      "\u001b[1;31m---------------------------------------------------------------------------\u001b[0m",
      "\u001b[1;31mAttributeError\u001b[0m                            Traceback (most recent call last)",
      "Cell \u001b[1;32mIn[9], line 1\u001b[0m\n\u001b[1;32m----> 1\u001b[0m text \u001b[39m=\u001b[39m reader\u001b[39m.\u001b[39;49mreadtext (img)\n\u001b[0;32m      2\u001b[0m \u001b[39mprint\u001b[39m(text)\n",
      "File \u001b[1;32mc:\\Program Files\\Python311\\Lib\\site-packages\\easyocr\\easyocr.py:464\u001b[0m, in \u001b[0;36mReader.readtext\u001b[1;34m(self, image, decoder, beamWidth, batch_size, workers, allowlist, blocklist, detail, rotation_info, paragraph, min_size, contrast_ths, adjust_contrast, filter_ths, text_threshold, low_text, link_threshold, canvas_size, mag_ratio, slope_ths, ycenter_ths, height_ths, width_ths, y_ths, x_ths, add_margin, threshold, bbox_min_score, bbox_min_size, max_candidates, output_format)\u001b[0m\n\u001b[0;32m    462\u001b[0m \u001b[39m# get the 1st result from hor & free list as self.detect returns a list of depth 3\u001b[39;00m\n\u001b[0;32m    463\u001b[0m horizontal_list, free_list \u001b[39m=\u001b[39m horizontal_list[\u001b[39m0\u001b[39m], free_list[\u001b[39m0\u001b[39m]\n\u001b[1;32m--> 464\u001b[0m result \u001b[39m=\u001b[39m \u001b[39mself\u001b[39;49m\u001b[39m.\u001b[39;49mrecognize(img_cv_grey, horizontal_list, free_list,\\\n\u001b[0;32m    465\u001b[0m                         decoder, beamWidth, batch_size,\\\n\u001b[0;32m    466\u001b[0m                         workers, allowlist, blocklist, detail, rotation_info,\\\n\u001b[0;32m    467\u001b[0m                         paragraph, contrast_ths, adjust_contrast,\\\n\u001b[0;32m    468\u001b[0m                         filter_ths, y_ths, x_ths, \u001b[39mFalse\u001b[39;49;00m, output_format)\n\u001b[0;32m    470\u001b[0m \u001b[39mreturn\u001b[39;00m result\n",
      "File \u001b[1;32mc:\\Program Files\\Python311\\Lib\\site-packages\\easyocr\\easyocr.py:391\u001b[0m, in \u001b[0;36mReader.recognize\u001b[1;34m(self, img_cv_grey, horizontal_list, free_list, decoder, beamWidth, batch_size, workers, allowlist, blocklist, detail, rotation_info, paragraph, contrast_ths, adjust_contrast, filter_ths, y_ths, x_ths, reformat, output_format)\u001b[0m\n\u001b[0;32m    389\u001b[0m h_list \u001b[39m=\u001b[39m []\n\u001b[0;32m    390\u001b[0m f_list \u001b[39m=\u001b[39m [bbox]\n\u001b[1;32m--> 391\u001b[0m image_list, max_width \u001b[39m=\u001b[39m get_image_list(h_list, f_list, img_cv_grey, model_height \u001b[39m=\u001b[39;49m imgH)\n\u001b[0;32m    392\u001b[0m result0 \u001b[39m=\u001b[39m get_text(\u001b[39mself\u001b[39m\u001b[39m.\u001b[39mcharacter, imgH, \u001b[39mint\u001b[39m(max_width), \u001b[39mself\u001b[39m\u001b[39m.\u001b[39mrecognizer, \u001b[39mself\u001b[39m\u001b[39m.\u001b[39mconverter, image_list,\\\n\u001b[0;32m    393\u001b[0m               ignore_char, decoder, beamWidth, batch_size, contrast_ths, adjust_contrast, filter_ths,\\\n\u001b[0;32m    394\u001b[0m               workers, \u001b[39mself\u001b[39m\u001b[39m.\u001b[39mdevice)\n\u001b[0;32m    395\u001b[0m result \u001b[39m+\u001b[39m\u001b[39m=\u001b[39m result0\n",
      "File \u001b[1;32mc:\\Program Files\\Python311\\Lib\\site-packages\\easyocr\\utils.py:593\u001b[0m, in \u001b[0;36mget_image_list\u001b[1;34m(horizontal_list, free_list, img, model_height, sort_output)\u001b[0m\n\u001b[0;32m    591\u001b[0m     \u001b[39mpass\u001b[39;00m\n\u001b[0;32m    592\u001b[0m \u001b[39melse\u001b[39;00m:\n\u001b[1;32m--> 593\u001b[0m     crop_img,ratio \u001b[39m=\u001b[39m compute_ratio_and_resize(transformed_img,transformed_img\u001b[39m.\u001b[39;49mshape[\u001b[39m1\u001b[39;49m],transformed_img\u001b[39m.\u001b[39;49mshape[\u001b[39m0\u001b[39;49m],model_height)\n\u001b[0;32m    594\u001b[0m     image_list\u001b[39m.\u001b[39mappend( (box,crop_img) ) \u001b[39m# box = [[x1,y1],[x2,y2],[x3,y3],[x4,y4]]\u001b[39;00m\n\u001b[0;32m    595\u001b[0m     max_ratio_free \u001b[39m=\u001b[39m \u001b[39mmax\u001b[39m(ratio, max_ratio_free)\n",
      "File \u001b[1;32mc:\\Program Files\\Python311\\Lib\\site-packages\\easyocr\\utils.py:576\u001b[0m, in \u001b[0;36mcompute_ratio_and_resize\u001b[1;34m(img, width, height, model_height)\u001b[0m\n\u001b[0;32m    574\u001b[0m     img \u001b[39m=\u001b[39m cv2\u001b[39m.\u001b[39mresize(img,(model_height,\u001b[39mint\u001b[39m(model_height\u001b[39m*\u001b[39mratio)), interpolation\u001b[39m=\u001b[39mImage\u001b[39m.\u001b[39mANTIALIAS)\n\u001b[0;32m    575\u001b[0m \u001b[39melse\u001b[39;00m:\n\u001b[1;32m--> 576\u001b[0m     img \u001b[39m=\u001b[39m cv2\u001b[39m.\u001b[39mresize(img,(\u001b[39mint\u001b[39m(model_height\u001b[39m*\u001b[39mratio),model_height),interpolation\u001b[39m=\u001b[39mImage\u001b[39m.\u001b[39;49mANTIALIAS)\n\u001b[0;32m    577\u001b[0m \u001b[39mreturn\u001b[39;00m img,ratio\n",
      "\u001b[1;31mAttributeError\u001b[0m: module 'PIL.Image' has no attribute 'ANTIALIAS'"
     ]
    }
   ],
   "source": [
    "text = reader.readtext (img)\n",
    "print(text)"
   ]
  }
 ],
 "metadata": {
  "kernelspec": {
   "display_name": "Python 3",
   "language": "python",
   "name": "python3"
  },
  "language_info": {
   "codemirror_mode": {
    "name": "ipython",
    "version": 3
   },
   "file_extension": ".py",
   "mimetype": "text/x-python",
   "name": "python",
   "nbconvert_exporter": "python",
   "pygments_lexer": "ipython3",
   "version": "3.11.4"
  },
  "orig_nbformat": 4
 },
 "nbformat": 4,
 "nbformat_minor": 2
}
